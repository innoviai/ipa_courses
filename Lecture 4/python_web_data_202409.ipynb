{
 "cells": [
  {
   "cell_type": "markdown",
   "metadata": {
    "id": "xWQiIJ53Pf6Q"
   },
   "source": [
    "# Web scraping - Introduction\n"
   ]
  },
  {
   "cell_type": "markdown",
   "metadata": {
    "id": "uR9cnLRHPkws"
   },
   "source": [
    "## 1) Sending a request\n"
   ]
  },
  {
   "cell_type": "code",
   "execution_count": 1,
   "metadata": {
    "executionInfo": {
     "elapsed": 491,
     "status": "ok",
     "timestamp": 1726991034811,
     "user": {
      "displayName": "Jackie Liu",
      "userId": "02981134988639725563"
     },
     "user_tz": -480
    },
    "id": "3JBaDBG8PcMT"
   },
   "outputs": [],
   "source": [
    "# Import before use\n",
    "import requests"
   ]
  },
  {
   "cell_type": "markdown",
   "metadata": {
    "id": "prfrpvRBUO_w"
   },
   "source": [
    "## Running a GET request\n"
   ]
  },
  {
   "cell_type": "code",
   "execution_count": null,
   "metadata": {
    "executionInfo": {
     "elapsed": 2350,
     "status": "ok",
     "timestamp": 1726991037574,
     "user": {
      "displayName": "Jackie Liu",
      "userId": "02981134988639725563"
     },
     "user_tz": -480
    },
    "id": "_UTlvPx4PtHH"
   },
   "outputs": [],
   "source": [
    "# Creating a request & submit a GET request\n",
    "url = 'https://hkuspace.hku.hk/eddie'\n",
    "response = requests.get(url)"
   ]
  },
  {
   "cell_type": "code",
   "execution_count": 3,
   "metadata": {
    "colab": {
     "base_uri": "https://localhost:8080/"
    },
    "executionInfo": {
     "elapsed": 16,
     "status": "ok",
     "timestamp": 1726991037574,
     "user": {
      "displayName": "Jackie Liu",
      "userId": "02981134988639725563"
     },
     "user_tz": -480
    },
    "id": "UyuRktR3RDJ3",
    "outputId": "6b05bda5-fd9d-4f99-f48a-6ea044569cc4"
   },
   "outputs": [
    {
     "data": {
      "text/plain": [
       "404"
      ]
     },
     "execution_count": 3,
     "metadata": {},
     "output_type": "execute_result"
    }
   ],
   "source": [
    "# Status code\n",
    "response.status_code"
   ]
  },
  {
   "cell_type": "markdown",
   "metadata": {
    "id": "I2EEHO00UM3C"
   },
   "source": [
    "## Content may be returned as `bytes` type, you can use `.decode()` method to change it to plain text (as `str`)\n"
   ]
  },
  {
   "cell_type": "code",
   "execution_count": 4,
   "metadata": {
    "colab": {
     "base_uri": "https://localhost:8080/"
    },
    "executionInfo": {
     "elapsed": 8,
     "status": "ok",
     "timestamp": 1726991037574,
     "user": {
      "displayName": "Jackie Liu",
      "userId": "02981134988639725563"
     },
     "user_tz": -480
    },
    "id": "ZOptn4RGRRfK",
    "outputId": "e70d0efb-87ac-4662-b056-e7ad6a6db046"
   },
   "outputs": [
    {
     "name": "stdout",
     "output_type": "stream",
     "text": [
      "<class 'bytes'>\n",
      "<class 'str'>\n"
     ]
    }
   ],
   "source": [
    "print(type(response.content))\n",
    "print(type(response.content.decode()))"
   ]
  },
  {
   "cell_type": "code",
   "execution_count": 5,
   "metadata": {
    "colab": {
     "base_uri": "https://localhost:8080/"
    },
    "executionInfo": {
     "elapsed": 6,
     "status": "ok",
     "timestamp": 1726991037574,
     "user": {
      "displayName": "Jackie Liu",
      "userId": "02981134988639725563"
     },
     "user_tz": -480
    },
    "id": "GPLuQLP0T13b",
    "outputId": "cdfe39fd-e930-4703-d88c-1bbbec4174f1"
   },
   "outputs": [
    {
     "name": "stdout",
     "output_type": "stream",
     "text": [
      "<!DOCTYPE html>\n",
      "<html class=\"no-js lang-en\" lang=\"en\">\n",
      "<head>\n",
      "  <meta charset=\"utf-8\">\n",
      "  <meta name=\"viewport\" content=\"width=device-width, initial-scale=1, user-scalable=0\">\n",
      "\t<title>Page Not Found</title>\n",
      "  <link rel=\"stylesheet\" href=\"/assets/css/style.css\">\n",
      "</head>\n",
      "<body>\n",
      "  <div class=\"wrapper not-found\">\n",
      "    <header class=\"page-head\" role=\"banner\">\n",
      "      <div class=\"container\">\t\n",
      "        <a class=\"logo\" href=\"/\">\n",
      "          <img class=\"hidden-xs\" src=\"/assets/img/logo.png\" alt=\"HKU SPACE\">\n",
      "          <img class=\"visible-xs-inline-block\" src=\"/assets/img/m_logo.png\" alt=\"HKU SPACE\">\n",
      "        </a>\n",
      "      </div>   \n",
      "    </header> \n",
      "\n",
      "    <div class=\"has-bg\">  \n",
      "      <div class=\"container\">\n",
      "        <div class=\"content\">\t\n",
      "          <h1>ERROR 404</h1>\n",
      "          <p>Sorry, the page you are looking for does not exist. <br>\n",
      "          You may wish to check these links below :<br>\n",
      "          此網頁不存在。請用以下連結找尋所需資料：</p>\n",
      "          <ul class=\"list-unstyled\">\n",
      "            <li><a href=\"/\">Homepage</a></li>\n",
      "            <li><a href=\"/programme\">Study</a></li>\n",
      "            <li><a href=\"/discover\">Discover</a></li>\n",
      "          </ul> \n",
      "          <p class=\"copyright\">Copyright © 2024 HKU SPACE. All rights reserved.</p>\n",
      "        </div>         \n",
      "      </div>\n",
      "    </div>    \n",
      "  </div>\n",
      "</body>\n",
      "</html>\n",
      "\n"
     ]
    }
   ],
   "source": [
    "print(response.content.decode())"
   ]
  },
  {
   "cell_type": "markdown",
   "metadata": {
    "id": "O2Y-7vdeSAOb"
   },
   "source": [
    "## Extra: POST Method\n"
   ]
  },
  {
   "cell_type": "code",
   "execution_count": 6,
   "metadata": {
    "colab": {
     "base_uri": "https://localhost:8080/"
    },
    "executionInfo": {
     "elapsed": 486,
     "status": "ok",
     "timestamp": 1726991038057,
     "user": {
      "displayName": "Jackie Liu",
      "userId": "02981134988639725563"
     },
     "user_tz": -480
    },
    "id": "zY9xsHYNSCa9",
    "outputId": "12b639c0-2d16-4969-85c9-7459897e7d05"
   },
   "outputs": [
    {
     "data": {
      "text/plain": [
       "200"
      ]
     },
     "execution_count": 6,
     "metadata": {},
     "output_type": "execute_result"
    }
   ],
   "source": [
    "post_url = 'https://authenticationtest.com//login/?mode=simpleFormAuth'\n",
    "email = 'simpleForm@authenticationtest.com'\n",
    "password = 'pa$$w0rd'\n",
    "post_response = requests.post(post_url, data={'email': email, 'password': password})\n",
    "post_response.status_code"
   ]
  },
  {
   "cell_type": "code",
   "execution_count": 7,
   "metadata": {
    "colab": {
     "base_uri": "https://localhost:8080/"
    },
    "executionInfo": {
     "elapsed": 6,
     "status": "ok",
     "timestamp": 1726991038057,
     "user": {
      "displayName": "Jackie Liu",
      "userId": "02981134988639725563"
     },
     "user_tz": -480
    },
    "id": "wG3UPvdJSvR3",
    "outputId": "e5e6449c-318d-4635-c5be-f7035a35dd16"
   },
   "outputs": [
    {
     "name": "stdout",
     "output_type": "stream",
     "text": [
      "<!DOCTYPE html>\n",
      "<html lang=\"en\">\n",
      "\t<head>\n",
      "\t\t<meta charset=\"utf-8\">\n",
      "\t\t<meta name=\"viewport\" content=\"width=device-width, initial-scale=1\">\n",
      "\t\t<meta name=\"description\" content=\"This site contains some examples of the ways web applications accept authentication. You can use these to test your scripts ability to authentication to them.\">\n",
      "\t\t<title>Authentication Test</title>\n",
      "\t\t<link href=\"https://authenticationtest.com/assets/bootstrap.min.css\" rel=\"stylesheet\" crossorigin=\"anonymous\">\n",
      "\t\t<link rel=\"icon\" href=\"https://authenticationtest.com/assets/favicon.png\">\n",
      "\t\t\n",
      "\t</head>\n",
      "\t<body>\n",
      "\t\t<nav class=\"navbar navbar-expand-lg navbar-dark bg-primary\">\n",
      "\t\t\t<a class=\"navbar-brand\" href=\"https://authenticationtest.com/\">\n",
      "\t\t\t\t<img src=\"https://authenticationtest.com/assets/favicon.png\" width=\"30\" height=\"30\" class=\"d-inline-block align-top\" alt=\"Authentication Test Icon\">Authentication Test</a>\n",
      "\t\t\t<button class=\"navbar-toggler\" type=\"button\" data-toggle=\"collapse\" data-target=\"#navbarNavAltMarkup\" aria-controls=\"navbarNavAltMarkup\" aria-expanded=\"false\" aria-label=\"Toggle navigation\">\n",
      "\t\t\t\t<span class=\"navbar-toggler-icon\"></span>\n",
      "\t\t\t</button>\n",
      "\t\t\t<div class=\"collapse navbar-collapse\" id=\"navbarSupportedContent\">\n",
      "\t\t\t\t<ul class=\"navbar-nav mr-auto\">\n",
      "\t\t\t\t\t<li class=\"nav-item\">\n",
      "\t\t\t\t\t\t<a class=\"nav-link\" href=\"https://authenticationtest.com/\">Auth Menu</a>\n",
      "\t\t\t\t\t</li>\n",
      "\t\t\t\t\t<li class=\"nav-item\">\n",
      "\t\t\t\t\t\t<a class=\"nav-link\" href=\"https://authenticationtest.com/statusCode/?code=200\">Status Codes</a>\n",
      "\t\t\t\t\t</li>\n",
      "\t\t\t\t\t<li class=\"nav-item\">\n",
      "\t\t\t\t\t\t<a class=\"nav-link\" href=\"https://authenticationtest.com/coverage/?id=1\">Page 1</a>\n",
      "\t\t\t\t\t</li>\n",
      "\t\t\t\t\t<li class=\"nav-item\">\n",
      "\t\t\t\t\t\t<a class=\"nav-link\" href=\"https://authenticationtest.com/about/\">About</a>\n",
      "\t\t\t\t\t</li>\n",
      "\t\t\t\t\t<li class=\"nav-item\">\n",
      "\t\t\t\t\t\t<a class=\"nav-link\" href=\"https://authenticationtest.com/totp/\">TOTPGen</a>\n",
      "\t\t\t\t\t</li>\n",
      "\t\t\t\t\t<li class=\"nav-item\">\n",
      "\t\t\t\t\t\t<a class=\"nav-link\" href=\"https://authenticationtest.com/xssDemo/\">XSS Demo</a>\n",
      "\t\t\t\t\t</li>\n",
      "\n",
      "\t\t\t\t\t\n",
      "\t\t\t\t</ul>\n",
      "\t\t\t</div>\n",
      "\t\t\t<span class=\"navbar-text\">\n",
      "\t\t\t\t\t\t\t\t\t\t\t\t\t\t\t<a href=\"https://authenticationtest.com/login/?mode=logout\">Sign Out</a>\n",
      "\t\t\t\t\t\t\t\t\t\t\t\t</span>\n",
      "\t\t</nav>\n",
      "\t\t<div class=\"container\">\n",
      "\t\t\t\n",
      "<h1>Login Success</h1>\n",
      "<div class=\"alert alert-success\">\n",
      "\t<strong>Success!</strong> You are now logged in!<br><br>\n",
      "\n",
      "\tYou will be logged in for the next 10 minutes.\n",
      "\t\t\tIf you wish to log out sooner, there is a Sign Out option in the top right corner.\n",
      "\t\n",
      "\t<br><br>\n",
      "\tFor HTTP/NTLM Auth: Due to how browsers maintain this session, you may need to clear your browser cache to log out. There is no functional way for this site to provide a logout for this method. Something to think about if you plan on using this method.\n",
      "</div>\n",
      "\n",
      "\t\t</div>\n",
      "\t\t<footer class=\"text-center\">\n",
      "\t\t\t<hr>\n",
      "\t\t\tCopyright &copy;2019-2024 <strong><a href=\"https://robert-lerner.com\">Robert Lerner</a></strong>, All Rights Reserved. | <a href=\"https://authenticationtest.com/privacy/\">Privacy Policy</a>\n",
      "\t\t</footer>\n",
      "\t\t<script src=\"https://code.jquery.com/jquery-3.5.1.min.js\" integrity=\"sha256-9/aliU8dGd2tb6OSsuzixeV4y/faTqgFtohetphbbj0=\" crossorigin=\"anonymous\"></script>\n",
      "\t\t<script src=\"https://stackpath.bootstrapcdn.com/bootstrap/4.3.1/js/bootstrap.min.js\" integrity=\"sha384-JjSmVgyd0p3pXB1rRibZUAYoIIy6OrQ6VrjIEaFf/nJGzIxFDsf4x0xIM+B07jRM\" crossorigin=\"anonymous\"></script>\n",
      "\t</body>\n",
      "</html>\n"
     ]
    }
   ],
   "source": [
    "print(post_response.content.decode())"
   ]
  },
  {
   "cell_type": "markdown",
   "metadata": {
    "id": "cz9xXV22xO7E"
   },
   "source": [
    "## 2) Locating Resources\n"
   ]
  },
  {
   "cell_type": "code",
   "execution_count": 8,
   "metadata": {
    "colab": {
     "base_uri": "https://localhost:8080/",
     "height": 35
    },
    "executionInfo": {
     "elapsed": 923,
     "status": "ok",
     "timestamp": 1726991038978,
     "user": {
      "displayName": "Jackie Liu",
      "userId": "02981134988639725563"
     },
     "user_tz": -480
    },
    "id": "pQC3hcVyxTQN",
    "outputId": "4370fd79-c19a-46ef-8648-7a1a2485ec18"
   },
   "outputs": [
    {
     "data": {
      "application/vnd.google.colaboratory.intrinsic+json": {
       "type": "string"
      },
      "text/plain": [
       "'2024/09/20 Daily Short Sale Balances'"
      ]
     },
     "execution_count": 8,
     "metadata": {},
     "output_type": "execute_result"
    }
   ],
   "source": [
    "import json\n",
    "\n",
    "json_response = requests.get('https://www.twse.com.tw/rwd/en/marginTrading/TWT93U?response=json')\n",
    "json_data = json.loads(json_response.content)\n",
    "json_data['title']"
   ]
  },
  {
   "cell_type": "markdown",
   "metadata": {
    "id": "tnvzBwitjih2"
   },
   "source": [
    "## 3) Reading Webpages with Beautiful soup\n",
    "\n",
    "Reference: https://pypi.org/project/beautifulsoup4/\n"
   ]
  },
  {
   "cell_type": "markdown",
   "metadata": {
    "id": "AOE-R1qEpoOg"
   },
   "source": [
    "### Creating a `BeautifulSoup` object with HTML content and a parser\n",
    "\n",
    "Parser choices: https://www.crummy.com/software/BeautifulSoup/bs4/doc/#installing-a-parser\n"
   ]
  },
  {
   "cell_type": "code",
   "execution_count": 9,
   "metadata": {
    "colab": {
     "base_uri": "https://localhost:8080/",
     "height": 241
    },
    "executionInfo": {
     "elapsed": 535,
     "status": "ok",
     "timestamp": 1726991039511,
     "user": {
      "displayName": "Jackie Liu",
      "userId": "02981134988639725563"
     },
     "user_tz": -480
    },
    "id": "Y_GBkIlxUWDc",
    "outputId": "3659b5f6-9c46-44c5-e5d5-81de751a90c0"
   },
   "outputs": [
    {
     "data": {
      "text/html": [
       "<div style=\"max-width:800px; border: 1px solid var(--colab-border-color);\"><style>\n",
       "      pre.function-repr-contents {\n",
       "        overflow-x: auto;\n",
       "        padding: 8px 12px;\n",
       "        max-height: 500px;\n",
       "      }\n",
       "\n",
       "      pre.function-repr-contents.function-repr-contents-collapsed {\n",
       "        cursor: pointer;\n",
       "        max-height: 100px;\n",
       "      }\n",
       "    </style>\n",
       "    <pre style=\"white-space: initial; background:\n",
       "         var(--colab-secondary-surface-color); padding: 8px 12px;\n",
       "         border-bottom: 1px solid var(--colab-border-color);\"><b>bs4.BeautifulSoup</b><br/>def __call__(*args, **kwargs)</pre><pre class=\"function-repr-contents function-repr-contents-collapsed\" style=\"\"><a class=\"filepath\" style=\"display:none\" href=\"#\">/usr/local/lib/python3.10/dist-packages/bs4/__init__.py</a>A data structure representing a parsed HTML or XML document.\n",
       "\n",
       "Most of the methods you&#x27;ll call on a BeautifulSoup object are inherited from\n",
       "PageElement or Tag.\n",
       "\n",
       "Internally, this class defines the basic interface called by the\n",
       "tree builders when converting an HTML/XML document into a data\n",
       "structure. The interface abstracts away the differences between\n",
       "parsers. To write a new tree builder, you&#x27;ll need to understand\n",
       "these methods as a whole.\n",
       "\n",
       "These methods will be called by the BeautifulSoup constructor:\n",
       "  * reset()\n",
       "  * feed(markup)\n",
       "\n",
       "The tree builder may call these methods from its feed() implementation:\n",
       "  * handle_starttag(name, attrs) # See note about return value\n",
       "  * handle_endtag(name)\n",
       "  * handle_data(data) # Appends to the current data node\n",
       "  * endData(containerClass) # Ends the current data node\n",
       "\n",
       "No matter how complicated the underlying parser is, you should be\n",
       "able to build a tree using &#x27;start tag&#x27; events, &#x27;end tag&#x27; events,\n",
       "&#x27;data&#x27; events, and &quot;done with data&quot; events.\n",
       "\n",
       "If you encounter an empty-element tag (aka a self-closing tag,\n",
       "like HTML&#x27;s &lt;br&gt; tag), call handle_starttag and then\n",
       "handle_endtag.</pre>\n",
       "      <script>\n",
       "      if (google.colab.kernel.accessAllowed && google.colab.files && google.colab.files.view) {\n",
       "        for (const element of document.querySelectorAll('.filepath')) {\n",
       "          element.style.display = 'block'\n",
       "          element.onclick = (event) => {\n",
       "            event.preventDefault();\n",
       "            event.stopPropagation();\n",
       "            google.colab.files.view(element.textContent, 76);\n",
       "          };\n",
       "        }\n",
       "      }\n",
       "      for (const element of document.querySelectorAll('.function-repr-contents')) {\n",
       "        element.onclick = (event) => {\n",
       "          event.preventDefault();\n",
       "          event.stopPropagation();\n",
       "          element.classList.toggle('function-repr-contents-collapsed');\n",
       "        };\n",
       "      }\n",
       "      </script>\n",
       "      </div>"
      ],
      "text/plain": [
       "bs4.BeautifulSoup"
      ]
     },
     "execution_count": 9,
     "metadata": {},
     "output_type": "execute_result"
    }
   ],
   "source": [
    "from bs4 import BeautifulSoup\n",
    "soup = BeautifulSoup(response.content, 'html.parser')\n",
    "type(soup)"
   ]
  },
  {
   "cell_type": "markdown",
   "metadata": {
    "id": "0nDi4BvfqIO7"
   },
   "source": [
    "## `Tag` objects\n"
   ]
  },
  {
   "cell_type": "markdown",
   "metadata": {
    "id": "O9G5aEnyqLMG"
   },
   "source": [
    "To find a tag named `xyz`, you just need to call `soup.find('xyz')` to see the first element\n"
   ]
  },
  {
   "cell_type": "markdown",
   "metadata": {
    "id": "BBFHk1zmqbuC"
   },
   "source": [
    "Use `<a>` as an example for hyperlinks\n"
   ]
  },
  {
   "cell_type": "code",
   "execution_count": 10,
   "metadata": {
    "colab": {
     "base_uri": "https://localhost:8080/"
    },
    "executionInfo": {
     "elapsed": 8,
     "status": "ok",
     "timestamp": 1726991039512,
     "user": {
      "displayName": "Jackie Liu",
      "userId": "02981134988639725563"
     },
     "user_tz": -480
    },
    "id": "ZREIaOYMo057",
    "outputId": "7caee7b2-8f62-423e-e7a6-1a0f2704c12b"
   },
   "outputs": [
    {
     "data": {
      "text/plain": [
       "<a class=\"logo\" href=\"/\">\n",
       "<img alt=\"HKU SPACE\" class=\"hidden-xs\" src=\"/assets/img/logo.png\"/>\n",
       "<img alt=\"HKU SPACE\" class=\"visible-xs-inline-block\" src=\"/assets/img/m_logo.png\"/>\n",
       "</a>"
      ]
     },
     "execution_count": 10,
     "metadata": {},
     "output_type": "execute_result"
    }
   ],
   "source": [
    "soup.find('a')"
   ]
  },
  {
   "cell_type": "code",
   "execution_count": 11,
   "metadata": {
    "colab": {
     "base_uri": "https://localhost:8080/",
     "height": 241
    },
    "executionInfo": {
     "elapsed": 434,
     "status": "ok",
     "timestamp": 1726991039941,
     "user": {
      "displayName": "Jackie Liu",
      "userId": "02981134988639725563"
     },
     "user_tz": -480
    },
    "id": "9eBNQMXOqheu",
    "outputId": "21e00c75-2efc-4cbe-ef4e-055f4aa1f035"
   },
   "outputs": [
    {
     "data": {
      "text/html": [
       "<div style=\"max-width:800px; border: 1px solid var(--colab-border-color);\"><style>\n",
       "      pre.function-repr-contents {\n",
       "        overflow-x: auto;\n",
       "        padding: 8px 12px;\n",
       "        max-height: 500px;\n",
       "      }\n",
       "\n",
       "      pre.function-repr-contents.function-repr-contents-collapsed {\n",
       "        cursor: pointer;\n",
       "        max-height: 100px;\n",
       "      }\n",
       "    </style>\n",
       "    <pre style=\"white-space: initial; background:\n",
       "         var(--colab-secondary-surface-color); padding: 8px 12px;\n",
       "         border-bottom: 1px solid var(--colab-border-color);\"><b>bs4.element.Tag</b><br/>def __call__(*args, **kwargs)</pre><pre class=\"function-repr-contents function-repr-contents-collapsed\" style=\"\"><a class=\"filepath\" style=\"display:none\" href=\"#\">/usr/local/lib/python3.10/dist-packages/bs4/element.py</a>Represents an HTML or XML tag that is part of a parse tree, along\n",
       "with its attributes and contents.\n",
       "\n",
       "When Beautiful Soup parses the markup &lt;b&gt;penguin&lt;/b&gt;, it will\n",
       "create a Tag object representing the &lt;b&gt; tag.</pre>\n",
       "      <script>\n",
       "      if (google.colab.kernel.accessAllowed && google.colab.files && google.colab.files.view) {\n",
       "        for (const element of document.querySelectorAll('.filepath')) {\n",
       "          element.style.display = 'block'\n",
       "          element.onclick = (event) => {\n",
       "            event.preventDefault();\n",
       "            event.stopPropagation();\n",
       "            google.colab.files.view(element.textContent, 1191);\n",
       "          };\n",
       "        }\n",
       "      }\n",
       "      for (const element of document.querySelectorAll('.function-repr-contents')) {\n",
       "        element.onclick = (event) => {\n",
       "          event.preventDefault();\n",
       "          event.stopPropagation();\n",
       "          element.classList.toggle('function-repr-contents-collapsed');\n",
       "        };\n",
       "      }\n",
       "      </script>\n",
       "      </div>"
      ],
      "text/plain": [
       "bs4.element.Tag"
      ]
     },
     "execution_count": 11,
     "metadata": {},
     "output_type": "execute_result"
    }
   ],
   "source": [
    "type(soup.find('a'))"
   ]
  },
  {
   "cell_type": "code",
   "execution_count": 12,
   "metadata": {
    "colab": {
     "base_uri": "https://localhost:8080/"
    },
    "executionInfo": {
     "elapsed": 19,
     "status": "ok",
     "timestamp": 1726991039941,
     "user": {
      "displayName": "Jackie Liu",
      "userId": "02981134988639725563"
     },
     "user_tz": -480
    },
    "id": "Isg4jeNSuuQo",
    "outputId": "7bfbdf50-d519-4c92-f8bb-1abfbe635f62"
   },
   "outputs": [
    {
     "data": {
      "text/plain": [
       "{'class': ['logo'], 'href': '/'}"
      ]
     },
     "execution_count": 12,
     "metadata": {},
     "output_type": "execute_result"
    }
   ],
   "source": [
    "# Attributes within the tag\n",
    "soup.find('a').attrs"
   ]
  },
  {
   "cell_type": "code",
   "execution_count": 13,
   "metadata": {
    "colab": {
     "base_uri": "https://localhost:8080/"
    },
    "executionInfo": {
     "elapsed": 15,
     "status": "ok",
     "timestamp": 1726991039941,
     "user": {
      "displayName": "Jackie Liu",
      "userId": "02981134988639725563"
     },
     "user_tz": -480
    },
    "id": "cqDjW-SavZMe",
    "outputId": "4c8a6e3d-8f9d-424b-870c-9ad28f85c9c6"
   },
   "outputs": [
    {
     "data": {
      "text/plain": [
       "['\\n',\n",
       " <img alt=\"HKU SPACE\" class=\"hidden-xs\" src=\"/assets/img/logo.png\"/>,\n",
       " '\\n',\n",
       " <img alt=\"HKU SPACE\" class=\"visible-xs-inline-block\" src=\"/assets/img/m_logo.png\"/>,\n",
       " '\\n']"
      ]
     },
     "execution_count": 13,
     "metadata": {},
     "output_type": "execute_result"
    }
   ],
   "source": [
    "soup.find('a').contents"
   ]
  },
  {
   "cell_type": "code",
   "execution_count": 14,
   "metadata": {
    "colab": {
     "base_uri": "https://localhost:8080/"
    },
    "executionInfo": {
     "elapsed": 14,
     "status": "ok",
     "timestamp": 1726991039942,
     "user": {
      "displayName": "Jackie Liu",
      "userId": "02981134988639725563"
     },
     "user_tz": -480
    },
    "id": "3mF5ls1bxZiS",
    "outputId": "af69b70d-2882-486e-e366-9814c1aa45b0"
   },
   "outputs": [
    {
     "name": "stdout",
     "output_type": "stream",
     "text": [
      "<class 'bs4.element.NavigableString'>: \"\n",
      "\"\n",
      "<class 'bs4.element.Tag'>: \"<img alt=\"HKU SPACE\" class=\"hidden-xs\" src=\"/assets/img/logo.png\"/>\"\n",
      "<class 'bs4.element.NavigableString'>: \"\n",
      "\"\n",
      "<class 'bs4.element.Tag'>: \"<img alt=\"HKU SPACE\" class=\"visible-xs-inline-block\" src=\"/assets/img/m_logo.png\"/>\"\n",
      "<class 'bs4.element.NavigableString'>: \"\n",
      "\"\n"
     ]
    }
   ],
   "source": [
    "for item in soup.a.contents:\n",
    "  print(f'{type(item)}: \"{item}\"')"
   ]
  },
  {
   "cell_type": "markdown",
   "metadata": {
    "id": "_uWRNmXwugJV"
   },
   "source": [
    "Use `find_all()` to iterate through all tags with that name\n"
   ]
  },
  {
   "cell_type": "code",
   "execution_count": 15,
   "metadata": {
    "colab": {
     "base_uri": "https://localhost:8080/"
    },
    "executionInfo": {
     "elapsed": 13,
     "status": "ok",
     "timestamp": 1726991039942,
     "user": {
      "displayName": "Jackie Liu",
      "userId": "02981134988639725563"
     },
     "user_tz": -480
    },
    "id": "pzb7O6paqjHj",
    "outputId": "cfc48604-6022-4e3a-a2d8-7dd332e4e697"
   },
   "outputs": [
    {
     "name": "stdout",
     "output_type": "stream",
     "text": [
      "[1] Display: None, url: /\n",
      "[2] Display: Homepage, url: /\n",
      "[3] Display: Study, url: /programme\n",
      "[4] Display: Discover, url: /discover\n"
     ]
    }
   ],
   "source": [
    "# Image => Homepage => Study => Discover\n",
    "for i, tag in enumerate(soup.find_all('a')):\n",
    "  print(f\"[{i+1}] Display: {tag.string}, url: {tag.attrs['href']}\")"
   ]
  },
  {
   "cell_type": "code",
   "execution_count": 16,
   "metadata": {
    "colab": {
     "base_uri": "https://localhost:8080/"
    },
    "executionInfo": {
     "elapsed": 11,
     "status": "ok",
     "timestamp": 1726991039942,
     "user": {
      "displayName": "Jackie Liu",
      "userId": "02981134988639725563"
     },
     "user_tz": -480
    },
    "id": "XhcgW5YUB7Cz",
    "outputId": "a8a0b0e6-9528-432d-d6db-a233ccba988b"
   },
   "outputs": [
    {
     "name": "stdout",
     "output_type": "stream",
     "text": [
      "[<img alt=\"HKU SPACE\" class=\"hidden-xs\" src=\"/assets/img/logo.png\"/>, <img alt=\"HKU SPACE\" class=\"visible-xs-inline-block\" src=\"/assets/img/m_logo.png\"/>]\n",
      "<img alt=\"HKU SPACE\" class=\"hidden-xs\" src=\"/assets/img/logo.png\"/>\n"
     ]
    }
   ],
   "source": [
    "print(soup.find_all('img'))\n",
    "print(soup.find('img', {'class': 'hidden-xs'}))"
   ]
  },
  {
   "cell_type": "markdown",
   "metadata": {
    "id": "Fe3_bgrytLLu"
   },
   "source": [
    "## Tag navigation\n"
   ]
  },
  {
   "cell_type": "code",
   "execution_count": 17,
   "metadata": {
    "colab": {
     "base_uri": "https://localhost:8080/"
    },
    "executionInfo": {
     "elapsed": 10,
     "status": "ok",
     "timestamp": 1726991039942,
     "user": {
      "displayName": "Jackie Liu",
      "userId": "02981134988639725563"
     },
     "user_tz": -480
    },
    "id": "SJKqRZovnzZA",
    "outputId": "a64e0591-a4fc-43f4-83ef-685769b53bcd"
   },
   "outputs": [
    {
     "data": {
      "text/plain": [
       "<p>Sorry, the page you are looking for does not exist. <br/>\n",
       "          You may wish to check these links below :<br/>\n",
       "          此網頁不存在。請用以下連結找尋所需資料：</p>"
      ]
     },
     "execution_count": 17,
     "metadata": {},
     "output_type": "execute_result"
    }
   ],
   "source": [
    "# Set a reference point\n",
    "tag_p_first = soup.find('p')\n",
    "tag_p_first"
   ]
  },
  {
   "cell_type": "code",
   "execution_count": 18,
   "metadata": {
    "colab": {
     "base_uri": "https://localhost:8080/"
    },
    "executionInfo": {
     "elapsed": 9,
     "status": "ok",
     "timestamp": 1726991039942,
     "user": {
      "displayName": "Jackie Liu",
      "userId": "02981134988639725563"
     },
     "user_tz": -480
    },
    "id": "EGtZdMRwuCep",
    "outputId": "504a5df0-e063-474a-874d-a4de059d6592"
   },
   "outputs": [
    {
     "data": {
      "text/plain": [
       "<div class=\"content\">\n",
       "<h1>ERROR 404</h1>\n",
       "<p>Sorry, the page you are looking for does not exist. <br/>\n",
       "          You may wish to check these links below :<br/>\n",
       "          此網頁不存在。請用以下連結找尋所需資料：</p>\n",
       "<ul class=\"list-unstyled\">\n",
       "<li><a href=\"/\">Homepage</a></li>\n",
       "<li><a href=\"/programme\">Study</a></li>\n",
       "<li><a href=\"/discover\">Discover</a></li>\n",
       "</ul>\n",
       "<p class=\"copyright\">Copyright © 2024 HKU SPACE. All rights reserved.</p>\n",
       "</div>"
      ]
     },
     "execution_count": 18,
     "metadata": {},
     "output_type": "execute_result"
    }
   ],
   "source": [
    "# Find parent\n",
    "tag_p_first.find_parent()"
   ]
  },
  {
   "cell_type": "code",
   "execution_count": 19,
   "metadata": {
    "colab": {
     "base_uri": "https://localhost:8080/"
    },
    "executionInfo": {
     "elapsed": 8,
     "status": "ok",
     "timestamp": 1726991039942,
     "user": {
      "displayName": "Jackie Liu",
      "userId": "02981134988639725563"
     },
     "user_tz": -480
    },
    "id": "qiEYlsWRuLLe",
    "outputId": "1b17a342-ca88-4f5b-bfe8-3940ed79393c"
   },
   "outputs": [
    {
     "data": {
      "text/plain": [
       "<h1>ERROR 404</h1>"
      ]
     },
     "execution_count": 19,
     "metadata": {},
     "output_type": "execute_result"
    }
   ],
   "source": [
    "# Find previous\n",
    "tag_p_first.find_previous()"
   ]
  },
  {
   "cell_type": "code",
   "execution_count": 20,
   "metadata": {
    "colab": {
     "base_uri": "https://localhost:8080/"
    },
    "executionInfo": {
     "elapsed": 439,
     "status": "ok",
     "timestamp": 1726991040374,
     "user": {
      "displayName": "Jackie Liu",
      "userId": "02981134988639725563"
     },
     "user_tz": -480
    },
    "id": "sbzOIWFhuT0I",
    "outputId": "567c5a99-9700-427b-d810-e460ed18fed9"
   },
   "outputs": [
    {
     "data": {
      "text/plain": [
       "<br/>"
      ]
     },
     "execution_count": 20,
     "metadata": {},
     "output_type": "execute_result"
    }
   ],
   "source": [
    "# Find next\n",
    "tag_p_first.find_next()"
   ]
  },
  {
   "cell_type": "code",
   "execution_count": 21,
   "metadata": {
    "colab": {
     "base_uri": "https://localhost:8080/"
    },
    "executionInfo": {
     "elapsed": 12,
     "status": "ok",
     "timestamp": 1726991040375,
     "user": {
      "displayName": "Jackie Liu",
      "userId": "02981134988639725563"
     },
     "user_tz": -480
    },
    "id": "CHldjjwQuWKR",
    "outputId": "2aabc519-163b-4f2d-b949-3231019f4ccb"
   },
   "outputs": [
    {
     "data": {
      "text/plain": [
       "<br/>"
      ]
     },
     "execution_count": 21,
     "metadata": {},
     "output_type": "execute_result"
    }
   ],
   "source": [
    "# Find next x 2\n",
    "tag_p_first.find_next().find_next()"
   ]
  },
  {
   "cell_type": "code",
   "execution_count": 22,
   "metadata": {
    "colab": {
     "base_uri": "https://localhost:8080/"
    },
    "executionInfo": {
     "elapsed": 9,
     "status": "ok",
     "timestamp": 1726991040375,
     "user": {
      "displayName": "Jackie Liu",
      "userId": "02981134988639725563"
     },
     "user_tz": -480
    },
    "id": "B1Wh8t0Pu_QV",
    "outputId": "b330c94b-4171-477f-8336-2a49badcb72b"
   },
   "outputs": [
    {
     "data": {
      "text/plain": [
       "<ul class=\"list-unstyled\">\n",
       "<li><a href=\"/\">Homepage</a></li>\n",
       "<li><a href=\"/programme\">Study</a></li>\n",
       "<li><a href=\"/discover\">Discover</a></li>\n",
       "</ul>"
      ]
     },
     "execution_count": 22,
     "metadata": {},
     "output_type": "execute_result"
    }
   ],
   "source": [
    "# Find next x 3\n",
    "tag_p_first.find_next().find_next().find_next()"
   ]
  },
  {
   "cell_type": "code",
   "execution_count": 23,
   "metadata": {
    "colab": {
     "base_uri": "https://localhost:8080/"
    },
    "executionInfo": {
     "elapsed": 8,
     "status": "ok",
     "timestamp": 1726991040375,
     "user": {
      "displayName": "Jackie Liu",
      "userId": "02981134988639725563"
     },
     "user_tz": -480
    },
    "id": "Zk4OSePgvEbF",
    "outputId": "be18d8ec-2d60-4723-f1af-7dc045a6cdfa"
   },
   "outputs": [
    {
     "data": {
      "text/plain": [
       "[<br/>, <br/>]"
      ]
     },
     "execution_count": 23,
     "metadata": {},
     "output_type": "execute_result"
    }
   ],
   "source": [
    "# Find Children\n",
    "tag_p_first.findChildren()"
   ]
  },
  {
   "cell_type": "code",
   "execution_count": 24,
   "metadata": {
    "colab": {
     "base_uri": "https://localhost:8080/"
    },
    "executionInfo": {
     "elapsed": 7,
     "status": "ok",
     "timestamp": 1726991040375,
     "user": {
      "displayName": "Jackie Liu",
      "userId": "02981134988639725563"
     },
     "user_tz": -480
    },
    "id": "11GcEbZjxvVT",
    "outputId": "f95056bf-3a44-4c8e-da81-31d3705487db"
   },
   "outputs": [
    {
     "data": {
      "text/plain": [
       "[bs4.element.Tag, bs4.element.Tag]"
      ]
     },
     "execution_count": 24,
     "metadata": {},
     "output_type": "execute_result"
    }
   ],
   "source": [
    "# \"Find\" functions give you `Tag` objects\n",
    "[type(c) for c in tag_p_first.findChildren()]"
   ]
  },
  {
   "cell_type": "code",
   "execution_count": 25,
   "metadata": {
    "colab": {
     "base_uri": "https://localhost:8080/"
    },
    "executionInfo": {
     "elapsed": 6,
     "status": "ok",
     "timestamp": 1726991040375,
     "user": {
      "displayName": "Jackie Liu",
      "userId": "02981134988639725563"
     },
     "user_tz": -480
    },
    "id": "tAPw41CBxzQq",
    "outputId": "e3fa3d66-cdc4-4a7e-f60a-f31927047f42"
   },
   "outputs": [
    {
     "data": {
      "text/plain": [
       "[<ul class=\"list-unstyled\">\n",
       " <li><a href=\"/\">Homepage</a></li>\n",
       " <li><a href=\"/programme\">Study</a></li>\n",
       " <li><a href=\"/discover\">Discover</a></li>\n",
       " </ul>,\n",
       " <p class=\"copyright\">Copyright © 2024 HKU SPACE. All rights reserved.</p>]"
      ]
     },
     "execution_count": 25,
     "metadata": {},
     "output_type": "execute_result"
    }
   ],
   "source": [
    "# Find next siblings\n",
    "tag_p_first.find_next_siblings()"
   ]
  },
  {
   "cell_type": "code",
   "execution_count": 26,
   "metadata": {
    "colab": {
     "base_uri": "https://localhost:8080/"
    },
    "executionInfo": {
     "elapsed": 5,
     "status": "ok",
     "timestamp": 1726991040375,
     "user": {
      "displayName": "Jackie Liu",
      "userId": "02981134988639725563"
     },
     "user_tz": -480
    },
    "id": "heZpo9jLy2-X",
    "outputId": "61ee3a4f-ab07-4cfb-b309-bc21912338f8"
   },
   "outputs": [
    {
     "data": {
      "text/plain": [
       "[<h1>ERROR 404</h1>]"
      ]
     },
     "execution_count": 26,
     "metadata": {},
     "output_type": "execute_result"
    }
   ],
   "source": [
    "# Find previous siblings\n",
    "tag_p_first.find_previous_siblings()"
   ]
  },
  {
   "cell_type": "markdown",
   "metadata": {
    "id": "va9BM20HaosU"
   },
   "source": [
    "## 3) Practice\n"
   ]
  },
  {
   "cell_type": "code",
   "execution_count": 27,
   "metadata": {
    "executionInfo": {
     "elapsed": 1316,
     "status": "ok",
     "timestamp": 1726991041687,
     "user": {
      "displayName": "Jackie Liu",
      "userId": "02981134988639725563"
     },
     "user_tz": -480
    },
    "id": "Yh9rAgm9b1EN"
   },
   "outputs": [],
   "source": [
    "import pandas as pd"
   ]
  },
  {
   "cell_type": "code",
   "execution_count": 28,
   "metadata": {
    "executionInfo": {
     "elapsed": 2219,
     "status": "ok",
     "timestamp": 1726991043903,
     "user": {
      "displayName": "Jackie Liu",
      "userId": "02981134988639725563"
     },
     "user_tz": -480
    },
    "id": "B4ZlWKHQz2Sd"
   },
   "outputs": [],
   "source": [
    "practice_url = 'http://www3.kits-tutor.com/2015/phpgetadvcontentbig5.php'\n",
    "practice_response = requests.get(practice_url)\n",
    "practice_soup = BeautifulSoup(practice_response.content, 'html.parser')"
   ]
  },
  {
   "cell_type": "code",
   "execution_count": 29,
   "metadata": {
    "executionInfo": {
     "elapsed": 6,
     "status": "ok",
     "timestamp": 1726991043903,
     "user": {
      "displayName": "Jackie Liu",
      "userId": "02981134988639725563"
     },
     "user_tz": -480
    },
    "id": "lgVSdGJkavw4"
   },
   "outputs": [],
   "source": [
    "markers = practice_soup.find_all('marker')\n",
    "\n",
    "# Load the data\n",
    "address_list = [m.attrs['job_address'] for m in markers]\n",
    "subject_list = [m.attrs['job_stu_subject'] for m in markers]\n",
    "rate_list = [m.attrs['job_hourrate'] for m in markers]"
   ]
  },
  {
   "cell_type": "code",
   "execution_count": 30,
   "metadata": {
    "colab": {
     "base_uri": "https://localhost:8080/",
     "height": 565
    },
    "executionInfo": {
     "elapsed": 5,
     "status": "ok",
     "timestamp": 1726991043903,
     "user": {
      "displayName": "Jackie Liu",
      "userId": "02981134988639725563"
     },
     "user_tz": -480
    },
    "id": "jPrIcj6Kbb6H",
    "outputId": "15975706-474d-4e98-bd5e-dd2a81d122f1"
   },
   "outputs": [
    {
     "data": {
      "application/vnd.google.colaboratory.intrinsic+json": {
       "summary": "{\n  \"name\": \"pd\",\n  \"rows\": 477,\n  \"fields\": [\n    {\n      \"column\": \"Address\",\n      \"properties\": {\n        \"dtype\": \"string\",\n        \"num_unique_values\": 348,\n        \"samples\": [\n          \"\\u9e97\\u6e2f\\u57ce\",\n          \"\\u78a7\\u7464\\u7063\",\n          \"\\u8354\\u76c8\\u88576\\u865f\"\n        ],\n        \"semantic_type\": \"\",\n        \"description\": \"\"\n      }\n    },\n    {\n      \"column\": \"Subject\",\n      \"properties\": {\n        \"dtype\": \"category\",\n        \"num_unique_values\": 183,\n        \"samples\": [\n          \"\\u88dc\\u82f1\\u6587,(\\u8001\\u5e2b\\u6709\\u6559\\u9ad8\\u4e2d\\u7d93\\u9a57)\",\n          \"\\u88dc\\u6578\\u5b78,\\u5316\\u5b78,\\u751f\\u7269,(\\u570b\\u969b\\u5b78\\u6821)(DSE\\u4e5f\\u53ef\\u61c9\\u5fb5)\",\n          \"\\u88dc\\u88dc\\u5168\\u79d1,\\u8ddf\\u5bb6\\u8ab2\"\n        ],\n        \"semantic_type\": \"\",\n        \"description\": \"\"\n      }\n    },\n    {\n      \"column\": \"Rate\",\n      \"properties\": {\n        \"dtype\": \"category\",\n        \"num_unique_values\": 27,\n        \"samples\": [\n          \"230\",\n          \"350\",\n          \"170\"\n        ],\n        \"semantic_type\": \"\",\n        \"description\": \"\"\n      }\n    }\n  ]\n}",
       "type": "dataframe"
      },
      "text/html": [
       "\n",
       "  <div id=\"df-f24fc9ee-51ae-487e-bdc8-a49ffb04f78a\" class=\"colab-df-container\">\n",
       "    <div>\n",
       "<style scoped>\n",
       "    .dataframe tbody tr th:only-of-type {\n",
       "        vertical-align: middle;\n",
       "    }\n",
       "\n",
       "    .dataframe tbody tr th {\n",
       "        vertical-align: top;\n",
       "    }\n",
       "\n",
       "    .dataframe thead th {\n",
       "        text-align: right;\n",
       "    }\n",
       "</style>\n",
       "<table border=\"1\" class=\"dataframe\">\n",
       "  <thead>\n",
       "    <tr style=\"text-align: right;\">\n",
       "      <th></th>\n",
       "      <th>Address</th>\n",
       "      <th>Subject</th>\n",
       "      <th>Rate</th>\n",
       "    </tr>\n",
       "  </thead>\n",
       "  <tbody>\n",
       "    <tr>\n",
       "      <th>0</th>\n",
       "      <td>雅景臺</td>\n",
       "      <td>補經濟,(英文卷)</td>\n",
       "      <td>200</td>\n",
       "    </tr>\n",
       "    <tr>\n",
       "      <th>1</th>\n",
       "      <td>海怡半島</td>\n",
       "      <td>補數學</td>\n",
       "      <td>160</td>\n",
       "    </tr>\n",
       "    <tr>\n",
       "      <th>2</th>\n",
       "      <td>翠怡花園</td>\n",
       "      <td>補英文</td>\n",
       "      <td>220</td>\n",
       "    </tr>\n",
       "    <tr>\n",
       "      <th>3</th>\n",
       "      <td>廣明苑</td>\n",
       "      <td>補英文</td>\n",
       "      <td>210</td>\n",
       "    </tr>\n",
       "    <tr>\n",
       "      <th>4</th>\n",
       "      <td>堅尼地城</td>\n",
       "      <td>補英文</td>\n",
       "      <td>250</td>\n",
       "    </tr>\n",
       "    <tr>\n",
       "      <th>...</th>\n",
       "      <td>...</td>\n",
       "      <td>...</td>\n",
       "      <td>...</td>\n",
       "    </tr>\n",
       "    <tr>\n",
       "      <th>472</th>\n",
       "      <td>亞洲大?</td>\n",
       "      <td>補數學,SCIENCE,(英文卷)</td>\n",
       "      <td>200</td>\n",
       "    </tr>\n",
       "    <tr>\n",
       "      <th>473</th>\n",
       "      <td>凱匯</td>\n",
       "      <td>補全科</td>\n",
       "      <td>160</td>\n",
       "    </tr>\n",
       "    <tr>\n",
       "      <th>474</th>\n",
       "      <td>興民街</td>\n",
       "      <td>補英文</td>\n",
       "      <td>160</td>\n",
       "    </tr>\n",
       "    <tr>\n",
       "      <th>475</th>\n",
       "      <td>火炭,銀禧花園(近港鐵站)</td>\n",
       "      <td>補SCIENCE,(英文卷)</td>\n",
       "      <td>220</td>\n",
       "    </tr>\n",
       "    <tr>\n",
       "      <th>476</th>\n",
       "      <td>匯景花園</td>\n",
       "      <td>補經濟,(英文卷)</td>\n",
       "      <td>200</td>\n",
       "    </tr>\n",
       "  </tbody>\n",
       "</table>\n",
       "<p>477 rows × 3 columns</p>\n",
       "</div>\n",
       "    <div class=\"colab-df-buttons\">\n",
       "\n",
       "  <div class=\"colab-df-container\">\n",
       "    <button class=\"colab-df-convert\" onclick=\"convertToInteractive('df-f24fc9ee-51ae-487e-bdc8-a49ffb04f78a')\"\n",
       "            title=\"Convert this dataframe to an interactive table.\"\n",
       "            style=\"display:none;\">\n",
       "\n",
       "  <svg xmlns=\"http://www.w3.org/2000/svg\" height=\"24px\" viewBox=\"0 -960 960 960\">\n",
       "    <path d=\"M120-120v-720h720v720H120Zm60-500h600v-160H180v160Zm220 220h160v-160H400v160Zm0 220h160v-160H400v160ZM180-400h160v-160H180v160Zm440 0h160v-160H620v160ZM180-180h160v-160H180v160Zm440 0h160v-160H620v160Z\"/>\n",
       "  </svg>\n",
       "    </button>\n",
       "\n",
       "  <style>\n",
       "    .colab-df-container {\n",
       "      display:flex;\n",
       "      gap: 12px;\n",
       "    }\n",
       "\n",
       "    .colab-df-convert {\n",
       "      background-color: #E8F0FE;\n",
       "      border: none;\n",
       "      border-radius: 50%;\n",
       "      cursor: pointer;\n",
       "      display: none;\n",
       "      fill: #1967D2;\n",
       "      height: 32px;\n",
       "      padding: 0 0 0 0;\n",
       "      width: 32px;\n",
       "    }\n",
       "\n",
       "    .colab-df-convert:hover {\n",
       "      background-color: #E2EBFA;\n",
       "      box-shadow: 0px 1px 2px rgba(60, 64, 67, 0.3), 0px 1px 3px 1px rgba(60, 64, 67, 0.15);\n",
       "      fill: #174EA6;\n",
       "    }\n",
       "\n",
       "    .colab-df-buttons div {\n",
       "      margin-bottom: 4px;\n",
       "    }\n",
       "\n",
       "    [theme=dark] .colab-df-convert {\n",
       "      background-color: #3B4455;\n",
       "      fill: #D2E3FC;\n",
       "    }\n",
       "\n",
       "    [theme=dark] .colab-df-convert:hover {\n",
       "      background-color: #434B5C;\n",
       "      box-shadow: 0px 1px 3px 1px rgba(0, 0, 0, 0.15);\n",
       "      filter: drop-shadow(0px 1px 2px rgba(0, 0, 0, 0.3));\n",
       "      fill: #FFFFFF;\n",
       "    }\n",
       "  </style>\n",
       "\n",
       "    <script>\n",
       "      const buttonEl =\n",
       "        document.querySelector('#df-f24fc9ee-51ae-487e-bdc8-a49ffb04f78a button.colab-df-convert');\n",
       "      buttonEl.style.display =\n",
       "        google.colab.kernel.accessAllowed ? 'block' : 'none';\n",
       "\n",
       "      async function convertToInteractive(key) {\n",
       "        const element = document.querySelector('#df-f24fc9ee-51ae-487e-bdc8-a49ffb04f78a');\n",
       "        const dataTable =\n",
       "          await google.colab.kernel.invokeFunction('convertToInteractive',\n",
       "                                                    [key], {});\n",
       "        if (!dataTable) return;\n",
       "\n",
       "        const docLinkHtml = 'Like what you see? Visit the ' +\n",
       "          '<a target=\"_blank\" href=https://colab.research.google.com/notebooks/data_table.ipynb>data table notebook</a>'\n",
       "          + ' to learn more about interactive tables.';\n",
       "        element.innerHTML = '';\n",
       "        dataTable['output_type'] = 'display_data';\n",
       "        await google.colab.output.renderOutput(dataTable, element);\n",
       "        const docLink = document.createElement('div');\n",
       "        docLink.innerHTML = docLinkHtml;\n",
       "        element.appendChild(docLink);\n",
       "      }\n",
       "    </script>\n",
       "  </div>\n",
       "\n",
       "\n",
       "<div id=\"df-2eb73fb0-74e5-4cd5-bb59-0f0b4256682b\">\n",
       "  <button class=\"colab-df-quickchart\" onclick=\"quickchart('df-2eb73fb0-74e5-4cd5-bb59-0f0b4256682b')\"\n",
       "            title=\"Suggest charts\"\n",
       "            style=\"display:none;\">\n",
       "\n",
       "<svg xmlns=\"http://www.w3.org/2000/svg\" height=\"24px\"viewBox=\"0 0 24 24\"\n",
       "     width=\"24px\">\n",
       "    <g>\n",
       "        <path d=\"M19 3H5c-1.1 0-2 .9-2 2v14c0 1.1.9 2 2 2h14c1.1 0 2-.9 2-2V5c0-1.1-.9-2-2-2zM9 17H7v-7h2v7zm4 0h-2V7h2v10zm4 0h-2v-4h2v4z\"/>\n",
       "    </g>\n",
       "</svg>\n",
       "  </button>\n",
       "\n",
       "<style>\n",
       "  .colab-df-quickchart {\n",
       "      --bg-color: #E8F0FE;\n",
       "      --fill-color: #1967D2;\n",
       "      --hover-bg-color: #E2EBFA;\n",
       "      --hover-fill-color: #174EA6;\n",
       "      --disabled-fill-color: #AAA;\n",
       "      --disabled-bg-color: #DDD;\n",
       "  }\n",
       "\n",
       "  [theme=dark] .colab-df-quickchart {\n",
       "      --bg-color: #3B4455;\n",
       "      --fill-color: #D2E3FC;\n",
       "      --hover-bg-color: #434B5C;\n",
       "      --hover-fill-color: #FFFFFF;\n",
       "      --disabled-bg-color: #3B4455;\n",
       "      --disabled-fill-color: #666;\n",
       "  }\n",
       "\n",
       "  .colab-df-quickchart {\n",
       "    background-color: var(--bg-color);\n",
       "    border: none;\n",
       "    border-radius: 50%;\n",
       "    cursor: pointer;\n",
       "    display: none;\n",
       "    fill: var(--fill-color);\n",
       "    height: 32px;\n",
       "    padding: 0;\n",
       "    width: 32px;\n",
       "  }\n",
       "\n",
       "  .colab-df-quickchart:hover {\n",
       "    background-color: var(--hover-bg-color);\n",
       "    box-shadow: 0 1px 2px rgba(60, 64, 67, 0.3), 0 1px 3px 1px rgba(60, 64, 67, 0.15);\n",
       "    fill: var(--button-hover-fill-color);\n",
       "  }\n",
       "\n",
       "  .colab-df-quickchart-complete:disabled,\n",
       "  .colab-df-quickchart-complete:disabled:hover {\n",
       "    background-color: var(--disabled-bg-color);\n",
       "    fill: var(--disabled-fill-color);\n",
       "    box-shadow: none;\n",
       "  }\n",
       "\n",
       "  .colab-df-spinner {\n",
       "    border: 2px solid var(--fill-color);\n",
       "    border-color: transparent;\n",
       "    border-bottom-color: var(--fill-color);\n",
       "    animation:\n",
       "      spin 1s steps(1) infinite;\n",
       "  }\n",
       "\n",
       "  @keyframes spin {\n",
       "    0% {\n",
       "      border-color: transparent;\n",
       "      border-bottom-color: var(--fill-color);\n",
       "      border-left-color: var(--fill-color);\n",
       "    }\n",
       "    20% {\n",
       "      border-color: transparent;\n",
       "      border-left-color: var(--fill-color);\n",
       "      border-top-color: var(--fill-color);\n",
       "    }\n",
       "    30% {\n",
       "      border-color: transparent;\n",
       "      border-left-color: var(--fill-color);\n",
       "      border-top-color: var(--fill-color);\n",
       "      border-right-color: var(--fill-color);\n",
       "    }\n",
       "    40% {\n",
       "      border-color: transparent;\n",
       "      border-right-color: var(--fill-color);\n",
       "      border-top-color: var(--fill-color);\n",
       "    }\n",
       "    60% {\n",
       "      border-color: transparent;\n",
       "      border-right-color: var(--fill-color);\n",
       "    }\n",
       "    80% {\n",
       "      border-color: transparent;\n",
       "      border-right-color: var(--fill-color);\n",
       "      border-bottom-color: var(--fill-color);\n",
       "    }\n",
       "    90% {\n",
       "      border-color: transparent;\n",
       "      border-bottom-color: var(--fill-color);\n",
       "    }\n",
       "  }\n",
       "</style>\n",
       "\n",
       "  <script>\n",
       "    async function quickchart(key) {\n",
       "      const quickchartButtonEl =\n",
       "        document.querySelector('#' + key + ' button');\n",
       "      quickchartButtonEl.disabled = true;  // To prevent multiple clicks.\n",
       "      quickchartButtonEl.classList.add('colab-df-spinner');\n",
       "      try {\n",
       "        const charts = await google.colab.kernel.invokeFunction(\n",
       "            'suggestCharts', [key], {});\n",
       "      } catch (error) {\n",
       "        console.error('Error during call to suggestCharts:', error);\n",
       "      }\n",
       "      quickchartButtonEl.classList.remove('colab-df-spinner');\n",
       "      quickchartButtonEl.classList.add('colab-df-quickchart-complete');\n",
       "    }\n",
       "    (() => {\n",
       "      let quickchartButtonEl =\n",
       "        document.querySelector('#df-2eb73fb0-74e5-4cd5-bb59-0f0b4256682b button');\n",
       "      quickchartButtonEl.style.display =\n",
       "        google.colab.kernel.accessAllowed ? 'block' : 'none';\n",
       "    })();\n",
       "  </script>\n",
       "</div>\n",
       "    </div>\n",
       "  </div>\n"
      ],
      "text/plain": [
       "           Address            Subject Rate\n",
       "0              雅景臺          補經濟,(英文卷)  200\n",
       "1             海怡半島                補數學  160\n",
       "2             翠怡花園                補英文  220\n",
       "3              廣明苑                補英文  210\n",
       "4             堅尼地城                補英文  250\n",
       "..             ...                ...  ...\n",
       "472           亞洲大?  補數學,SCIENCE,(英文卷)  200\n",
       "473             凱匯                補全科  160\n",
       "474            興民街                補英文  160\n",
       "475  火炭,銀禧花園(近港鐵站)     補SCIENCE,(英文卷)  220\n",
       "476           匯景花園          補經濟,(英文卷)  200\n",
       "\n",
       "[477 rows x 3 columns]"
      ]
     },
     "execution_count": 30,
     "metadata": {},
     "output_type": "execute_result"
    }
   ],
   "source": [
    "# Create a dataframe\n",
    "pd.DataFrame({'Address': address_list, 'Subject': subject_list, 'Rate': rate_list})"
   ]
  },
  {
   "cell_type": "code",
   "execution_count": 30,
   "metadata": {
    "executionInfo": {
     "elapsed": 3,
     "status": "ok",
     "timestamp": 1726991043903,
     "user": {
      "displayName": "Jackie Liu",
      "userId": "02981134988639725563"
     },
     "user_tz": -480
    },
    "id": "zVT1hLgbczuZ"
   },
   "outputs": [],
   "source": []
  }
 ],
 "metadata": {
  "colab": {
   "authorship_tag": "ABX9TyPZDk0Us0IzjMh58ghnqnq2",
   "provenance": [
    {
     "file_id": "1Xn910OKZods_shBRIllczRVgNjlsvwEu",
     "timestamp": 1723048072826
    }
   ]
  },
  "kernelspec": {
   "display_name": "Python 3",
   "name": "python3"
  },
  "language_info": {
   "name": "python"
  }
 },
 "nbformat": 4,
 "nbformat_minor": 0
}
